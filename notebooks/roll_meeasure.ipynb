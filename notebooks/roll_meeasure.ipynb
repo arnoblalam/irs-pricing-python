{
 "cells": [
  {
   "cell_type": "code",
   "execution_count": 7,
   "metadata": {},
   "outputs": [],
   "source": [
    "import pandas as pd\n",
    "import numpy as np"
   ]
  },
  {
   "cell_type": "code",
   "execution_count": 13,
   "metadata": {},
   "outputs": [],
   "source": [
    "# Read data create columns for tenor\n",
    "df = pd.read_excel('data/liquidity/CAD_20130223-20130310.xlsx')\n",
    "df['Tenor'] = np.round((df['Maturity'] - df['Effective']).dt.days / 365.25)\n",
    "df['Trade Date'] = df['Trade Time'].dt.date\n"
   ]
  },
  {
   "cell_type": "code",
   "execution_count": 19,
   "metadata": {},
   "outputs": [],
   "source": [
    "def calculate_roll_measure(prices):\n",
    "    \"\"\"\n",
    "    Calculate the Roll measure from a list of trade prices.\n",
    "    \n",
    "    Parameters:\n",
    "    prices (list or numpy array): A list or numpy array of trade prices.\n",
    "    \n",
    "    Returns:\n",
    "    float: The Roll measure in decimal form.\n",
    "    \"\"\"    \n",
    "    # Calculate the price changes (Delta P_t)\n",
    "    delta_P_t = np.diff(prices)\n",
    "    \n",
    "    # Calculate the covariance between delta_P_t and delta_P_t_minus_1\n",
    "    delta_P_t_minus_1 = delta_P_t[:-1]\n",
    "    delta_P_t = delta_P_t[1:]\n",
    "    \n",
    "    cov = np.cov(delta_P_t, delta_P_t_minus_1, ddof=0)[0, 1]\n",
    "    \n",
    "    # Calculate the roll measure\n",
    "    roll_measure = 2 * np.sqrt(-cov)\n",
    "    \n",
    "    # Convert the roll measure to basis points\n",
    "    roll_measure_bps = roll_measure * 10000\n",
    "    \n",
    "    return roll_measure, roll_measure_bps\n"
   ]
  },
  {
   "cell_type": "code",
   "execution_count": 20,
   "metadata": {},
   "outputs": [],
   "source": [
    "def apply_roll_measure(group):\n",
    "    # Extract the prices as a numpy array\n",
    "    prices = group['Rate 1'].values\n",
    "    # Calculate the roll measure\n",
    "    roll_measure, roll_measure_bps = calculate_roll_measure(prices)\n",
    "    return pd.Series({'Roll Measure': roll_measure, 'Roll Measure (bps)': roll_measure_bps})"
   ]
  },
  {
   "cell_type": "code",
   "execution_count": 21,
   "metadata": {},
   "outputs": [
    {
     "name": "stderr",
     "output_type": "stream",
     "text": [
      "/var/folders/v2/2g59sj7s7qbcgl_0l5zkx1gm0000gn/T/ipykernel_42800/3532090223.py:21: RuntimeWarning: invalid value encountered in sqrt\n",
      "  roll_measure = 2 * np.sqrt(-cov)\n",
      "/Users/arnobalam/opt/anaconda3/lib/python3.9/site-packages/numpy/lib/function_base.py:518: RuntimeWarning: Mean of empty slice.\n",
      "  avg = a.mean(axis, **keepdims_kw)\n",
      "/Users/arnobalam/opt/anaconda3/lib/python3.9/site-packages/numpy/core/_methods.py:182: RuntimeWarning: invalid value encountered in divide\n",
      "  ret = um.true_divide(\n",
      "/var/folders/v2/2g59sj7s7qbcgl_0l5zkx1gm0000gn/T/ipykernel_42800/3532090223.py:18: RuntimeWarning: Degrees of freedom <= 0 for slice\n",
      "  cov = np.cov(delta_P_t, delta_P_t_minus_1, ddof=0)[0, 1]\n",
      "/Users/arnobalam/opt/anaconda3/lib/python3.9/site-packages/numpy/lib/function_base.py:2704: RuntimeWarning: divide by zero encountered in divide\n",
      "  c *= np.true_divide(1, fact)\n",
      "/Users/arnobalam/opt/anaconda3/lib/python3.9/site-packages/numpy/lib/function_base.py:2704: RuntimeWarning: invalid value encountered in multiply\n",
      "  c *= np.true_divide(1, fact)\n",
      "/var/folders/v2/2g59sj7s7qbcgl_0l5zkx1gm0000gn/T/ipykernel_42800/3532090223.py:21: RuntimeWarning: invalid value encountered in sqrt\n",
      "  roll_measure = 2 * np.sqrt(-cov)\n",
      "/Users/arnobalam/opt/anaconda3/lib/python3.9/site-packages/numpy/lib/function_base.py:518: RuntimeWarning: Mean of empty slice.\n",
      "  avg = a.mean(axis, **keepdims_kw)\n",
      "/Users/arnobalam/opt/anaconda3/lib/python3.9/site-packages/numpy/core/_methods.py:182: RuntimeWarning: invalid value encountered in divide\n",
      "  ret = um.true_divide(\n",
      "/var/folders/v2/2g59sj7s7qbcgl_0l5zkx1gm0000gn/T/ipykernel_42800/3532090223.py:18: RuntimeWarning: Degrees of freedom <= 0 for slice\n",
      "  cov = np.cov(delta_P_t, delta_P_t_minus_1, ddof=0)[0, 1]\n",
      "/Users/arnobalam/opt/anaconda3/lib/python3.9/site-packages/numpy/lib/function_base.py:2704: RuntimeWarning: divide by zero encountered in divide\n",
      "  c *= np.true_divide(1, fact)\n",
      "/Users/arnobalam/opt/anaconda3/lib/python3.9/site-packages/numpy/lib/function_base.py:2704: RuntimeWarning: invalid value encountered in multiply\n",
      "  c *= np.true_divide(1, fact)\n"
     ]
    }
   ],
   "source": [
    "import numpy as np\n",
    "filtered_df = df[(df['CD'] == 'TR') & (df['Tenor'] == 10.0) & (df[\"Leg 2\"]== 'CAD-BA-CDOR')]\n",
    "filtered_df = filtered_df.sort_values('Trade Time')\n",
    "result = filtered_df.groupby('Trade Date').apply(apply_roll_measure).reset_index()"
   ]
  },
  {
   "cell_type": "code",
   "execution_count": 25,
   "metadata": {},
   "outputs": [],
   "source": [
    "result.to_csv('data/liquidity/Roll/cad_roll_phase_1.csv')"
   ]
  }
 ],
 "metadata": {
  "kernelspec": {
   "display_name": "base",
   "language": "python",
   "name": "python3"
  },
  "language_info": {
   "codemirror_mode": {
    "name": "ipython",
    "version": 3
   },
   "file_extension": ".py",
   "mimetype": "text/x-python",
   "name": "python",
   "nbconvert_exporter": "python",
   "pygments_lexer": "ipython3",
   "version": "3.9.-1"
  }
 },
 "nbformat": 4,
 "nbformat_minor": 2
}

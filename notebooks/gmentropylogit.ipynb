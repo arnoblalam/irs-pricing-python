{
 "cells": [
  {
   "cell_type": "code",
   "execution_count": 15,
   "metadata": {},
   "outputs": [],
   "source": [
    "import numpy as np\n",
    "from numpy import log, exp\n",
    "from scipy.optimize import minimize\n"
   ]
  },
  {
   "cell_type": "code",
   "execution_count": 16,
   "metadata": {},
   "outputs": [],
   "source": [
    "def gme_support_vector(nobs):\n",
    "    return np.array([-1.0/np.sqrt(nobs), 0.0, 1.0/np.sqrt(nobs)])\n"
   ]
  },
  {
   "cell_type": "code",
   "execution_count": 17,
   "metadata": {},
   "outputs": [],
   "source": [
    "\n",
    "def me_discrete_gme_binary(params, Y, X, v):\n",
    "    \"\"\"\n",
    "    A simplified GME objective for a binary outcome Y in {0,1}.\n",
    "    Y is length-N, X is NxK, params is length-K.\n",
    "    v is the 3-point error support.\n",
    "    Returns the *negative* of the objective, so SciPy can minimize it.\n",
    "    \"\"\"\n",
    "\n",
    "    # 1) Compute linear index\n",
    "    P1 = X @ params  # shape (N,)\n",
    "\n",
    "    # 2) We'll define:\n",
    "    #    a) sum( P1 * Y ), \n",
    "    #    b) sum( ln( sum_{k in 2-cat} exp(-P1_k) ) ), but we only have one cat for \"Y=1\"\n",
    "    #       so let's adapt.\n",
    "    #\n",
    "    # Actually, if you want to replicate exactly the multi-col approach, you'd do a\n",
    "    # custom sum over categories. But let's do a simpler approach:\n",
    "    \n",
    "    # The usual GME logic might be:\n",
    "    # L = - [ sum(Y_i * P1_i) + sum( ln( sum_{k} exp(-P1_{i,k}) ) ) + sum( ln( ... PSI... )) ]\n",
    "    # But if we have only 2 categories => P(1) = p, P(0) = 1-p\n",
    "    # GME code might do something special with error terms. We'll do a simpler version:\n",
    "\n",
    "    # Let's define p = exp(-P1) / [1 + exp(-P1)] to mimic your final \"predict\" formula\n",
    "    # Then define the negative log-likelihood-like term:\n",
    "    # part1 = sum(Y_i * log(p_i) + (1-Y_i)*log(1-p_i))   # for a standard logit\n",
    "    # Then we incorporate GME \"penalties\" or \"entropy\" terms as the code does.\n",
    "\n",
    "    # For demonstration, let's show a direct replication of your final lines from gme_discrete:\n",
    "    # P = exp(-X*beta')/(1 + exp(-X*beta'))\n",
    "    # Then an \"entropy\" measure S = ...\n",
    "    # But the original code uses a 3-point error structure. \n",
    "    # We'll keep it minimal here:\n",
    "\n",
    "    p = np.clip(np.exp(-P1)/(1.0 + np.exp(-P1)), 1e-15, 1-1e-15)\n",
    "    # Negative log-likelihood part:\n",
    "    nll = -np.sum(Y * np.log(p) + (1 - Y)*np.log(1 - p))\n",
    "\n",
    "    # If you want to incorporate the \"v\" error support, you'd do so similarly to your original:\n",
    "    # For example, you might define something akin to: sum(log( sum exp( - P1_i v ) ) ) etc.\n",
    "    # We'll omit that for brevity here. If you need the exact 3-point logic, carefully re-code.\n",
    "\n",
    "    return nll\n"
   ]
  },
  {
   "cell_type": "code",
   "execution_count": 18,
   "metadata": {},
   "outputs": [],
   "source": [
    "\n",
    "def gme_logit_binary(y, X):\n",
    "    \"\"\"\n",
    "    A single-column parameter approach for a binary GME logit,\n",
    "    with fewer chances of overflow.\n",
    "    \"\"\"\n",
    "    y = np.array(y).astype(float)\n",
    "    X = np.array(X).astype(float)\n",
    "    N, K = X.shape\n",
    "    v = gme_support_vector(N)\n",
    "    init_params = np.zeros(K)\n",
    "\n",
    "    def obj_fun(params):\n",
    "        return me_discrete_gme_binary(params, y, X, v)\n",
    "\n",
    "    res = minimize(obj_fun, init_params, method='BFGS')\n",
    "    return res\n"
   ]
  },
  {
   "cell_type": "code",
   "execution_count": 19,
   "metadata": {},
   "outputs": [],
   "source": [
    "def add_constant(X):\n",
    "    \"\"\"\n",
    "    Append a column of ones to X for the intercept.\n",
    "    \"\"\"\n",
    "    X = np.asarray(X).astype(float)\n",
    "    ones = np.ones((X.shape[0], 1))\n",
    "    return np.hstack((X, ones))\n"
   ]
  },
  {
   "cell_type": "code",
   "execution_count": 11,
   "metadata": {},
   "outputs": [],
   "source": [
    "def gme_support_vector(nobs):\n",
    "    \"\"\"\n",
    "    Symmetric 3-point error support: [-1/sqrt(N), 0, 1/sqrt(N)].\n",
    "    \"\"\"\n",
    "    return np.array([-1.0/np.sqrt(nobs), 0.0, 1.0/np.sqrt(nobs)])\n"
   ]
  },
  {
   "cell_type": "code",
   "execution_count": 21,
   "metadata": {},
   "outputs": [
    {
     "name": "stdout",
     "output_type": "stream",
     "text": [
      "  message: Optimization terminated successfully.\n",
      "  success: True\n",
      "   status: 0\n",
      "      fun: 90.64208733063595\n",
      "        x: [-1.119e+00  1.764e+00]\n",
      "      nit: 10\n",
      "      jac: [ 0.000e+00  0.000e+00]\n",
      " hess_inv: [[ 4.570e-02 -2.222e-02]\n",
      "            [-2.222e-02  7.580e-02]]\n",
      "     nfev: 36\n",
      "     njev: 12\n"
     ]
    }
   ],
   "source": [
    "if __name__ == \"__main__\":\n",
    "    # Generate a small synthetic dataset\n",
    "    np.random.seed(123)\n",
    "    N = 200\n",
    "    Xraw = np.random.randn(N, 2)  # two regressors\n",
    "    # True betas\n",
    "    b_true = np.array([1.0, -1.5, 0.5])  # 2 slopes + intercept\n",
    "    # We'll do a logistic transformation for 'true' probabilities:\n",
    "    X_ = add_constant(Xraw)  # shape (N, 3)\n",
    "    xb = X_ @ b_true\n",
    "    p_true = 1.0/(1.0 + np.exp(-xb))\n",
    "    y_obs = (np.random.rand(N) < p_true).astype(float)\n",
    "\n",
    "    # Run gmentropylogit\n",
    "    out = gme_logit_binary(y_obs, Xraw)\n",
    "    print(out)\n",
    "#    print(\"Converged:\", out['success'])\n",
    "#    print(\"Parameters (K x 2):\\n\", out['params'])\n",
    "#    print(\"Entropy:\", out['entropy'], \"Normalized entropy (Sp):\", out['Sp'])\n",
    "#    print(\"lnf:\", out['lnf'])\n",
    "#    print(\"Partial effects:\", out['mfx'])\n"
   ]
  }
 ],
 "metadata": {
  "kernelspec": {
   "display_name": "base",
   "language": "python",
   "name": "python3"
  },
  "language_info": {
   "codemirror_mode": {
    "name": "ipython",
    "version": 3
   },
   "file_extension": ".py",
   "mimetype": "text/x-python",
   "name": "python",
   "nbconvert_exporter": "python",
   "pygments_lexer": "ipython3",
   "version": "3.12.7"
  }
 },
 "nbformat": 4,
 "nbformat_minor": 2
}

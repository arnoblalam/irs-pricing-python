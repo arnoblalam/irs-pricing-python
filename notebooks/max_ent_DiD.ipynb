{
 "cells": [
  {
   "cell_type": "code",
   "execution_count": 2,
   "metadata": {},
   "outputs": [],
   "source": [
    "import numpy as np\n",
    "import pandas as pd\n",
    "from scipy.optimize import minimize\n",
    "from statsmodels.formula.api import ols\n"
   ]
  },
  {
   "cell_type": "code",
   "execution_count": 3,
   "metadata": {},
   "outputs": [],
   "source": [
    "\n",
    "# Set random seed for reproducibility\n",
    "np.random.seed(123)\n",
    "\n",
    "# Generate sample data\n",
    "n = 1000\n",
    "treatment = np.random.binomial(1, 0.5, n)\n",
    "time = np.random.binomial(1, 0.5, n)\n",
    "X = np.column_stack((np.ones(n), treatment, time, treatment*time))\n",
    "true_betas = [1, 2, 3, 4]\n",
    "y = X @ true_betas + np.random.laplace(0, 1, n)\n",
    "\n",
    "# Create DataFrame\n",
    "df = pd.DataFrame({\n",
    "    'y': y,\n",
    "    'treatment': treatment,\n",
    "    'time': time,\n",
    "    'interaction': treatment * time\n",
    "})\n"
   ]
  },
  {
   "cell_type": "code",
   "execution_count": 4,
   "metadata": {},
   "outputs": [
    {
     "name": "stdout",
     "output_type": "stream",
     "text": [
      "OLS Estimates:\n",
      "Intercept      0.974296\n",
      "treatment      2.136684\n",
      "time           2.829612\n",
      "interaction    3.886474\n",
      "dtype: float64\n"
     ]
    }
   ],
   "source": [
    "\n",
    "# OLS estimation\n",
    "ols_model = ols('y ~ treatment + time + interaction', data=df).fit()\n",
    "print(\"OLS Estimates:\")\n",
    "print(ols_model.params)\n"
   ]
  },
  {
   "cell_type": "code",
   "execution_count": 5,
   "metadata": {},
   "outputs": [],
   "source": [
    "\n",
    "# Maximum Entropy estimation\n",
    "def neg_entropy(p):\n",
    "    return np.sum(p * np.log(p))\n",
    "\n",
    "def me_objective(params):\n",
    "    beta0, beta1, beta2, beta3, sigma = params\n",
    "    residuals = y - X @ [beta0, beta1, beta2, beta3]\n",
    "    p = np.exp(-residuals**2 / (2*sigma**2)) / np.sqrt(2*np.pi*sigma**2)\n",
    "    return neg_entropy(p)\n",
    "\n",
    "def me_constraints(params):\n",
    "    beta0, beta1, beta2, beta3, sigma = params\n",
    "    residuals = y - X @ [beta0, beta1, beta2, beta3]\n",
    "    return [np.mean(residuals), np.mean(residuals**2) - sigma**2]\n"
   ]
  },
  {
   "cell_type": "code",
   "execution_count": 6,
   "metadata": {},
   "outputs": [
    {
     "name": "stdout",
     "output_type": "stream",
     "text": [
      "\n",
      "Maximum Entropy Estimates:\n",
      "[0.90349661 2.22515116 2.9426729  3.76047904]\n",
      "\n",
      "True betas:\n",
      "[1, 2, 3, 4]\n"
     ]
    }
   ],
   "source": [
    "\n",
    "initial_guess = ols_model.params.tolist() + [1]\n",
    "result = minimize(me_objective, initial_guess, method='SLSQP', constraints={'type': 'eq', 'fun': me_constraints})\n",
    "\n",
    "print(\"\\nMaximum Entropy Estimates:\")\n",
    "print(result.x[:4])  # First four parameters are the betas\n",
    "\n",
    "print(\"\\nTrue betas:\")\n",
    "print(true_betas)"
   ]
  }
 ],
 "metadata": {
  "kernelspec": {
   "display_name": "base",
   "language": "python",
   "name": "python3"
  },
  "language_info": {
   "codemirror_mode": {
    "name": "ipython",
    "version": 3
   },
   "file_extension": ".py",
   "mimetype": "text/x-python",
   "name": "python",
   "nbconvert_exporter": "python",
   "pygments_lexer": "ipython3",
   "version": "3.9.19"
  }
 },
 "nbformat": 4,
 "nbformat_minor": 2
}

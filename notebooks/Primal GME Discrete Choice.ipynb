{
 "cells": [
  {
   "cell_type": "code",
   "execution_count": 33,
   "metadata": {},
   "outputs": [],
   "source": [
    "import cvxpy as cp\n",
    "import numpy as np"
   ]
  },
  {
   "cell_type": "code",
   "execution_count": 55,
   "metadata": {},
   "outputs": [],
   "source": [
    "def entropy_model(x, y, v):\n",
    "    n, k = x.shape\n",
    "    s = v.shape[0]\n",
    "\n",
    "    # Define variables\n",
    "    p = cp.Variable(n)\n",
    "    w = cp.Variable((n, s))\n",
    "\n",
    "    # Define the objective function\n",
    "    entropy = -cp.sum(cp.entr(p) + cp.entr(1 - p)) - cp.sum(cp.entr(w))\n",
    "    objective = cp.Minimize(entropy)\n",
    "\n",
    "    # Define the constraints\n",
    "    constraints = []\n",
    "    for k_idx in range(k):\n",
    "        lhs = cp.sum(cp.multiply(x[:, k_idx], y))\n",
    "        rhs = cp.sum(cp.multiply(x[:, k_idx], p)) \\\n",
    "              + cp.sum(cp.multiply(cp.multiply(x[:, k_idx].reshape(-1,1), v), w))\n",
    "        constraints.append(lhs == rhs)\n",
    "    constraints += [p >= 0, p <= 1]\n",
    "    constraints.append(cp.sum(w, axis=1) == 1)\n",
    "\n",
    "    # Define the problem\n",
    "    problem = cp.Problem(objective, constraints)\n",
    "\n",
    "    # Solve the problem\n",
    "    problem.solve()\n",
    "\n",
    "    # Extract results\n",
    "    p_opt = p.value\n",
    "    w_opt = w.value\n",
    "    betas = [-constraint.dual_value for constraint in constraints[:k]]  # Negative of the Lagrange multipliers\n",
    "\n",
    "    return p_opt, w_opt, betas, problem"
   ]
  },
  {
   "cell_type": "code",
   "execution_count": 63,
   "metadata": {},
   "outputs": [],
   "source": [
    "from scipy.special import expit\n",
    "# Set random seed for reproducibility\n",
    "np.random.seed(42)\n",
    "\n",
    "# Generate synthetic data\n",
    "n_samples = 1000\n",
    "true_betas = np.array([1.5, 10])\n",
    "\n",
    "# Generate random features\n",
    "X = np.random.normal(0, 1, (n_samples, len(true_betas)))\n",
    "\n",
    "# Calculate true probabilities using logistic function\n",
    "true_probs = expit(X @ true_betas)\n",
    "\n",
    "# Generate binary outcomes\n",
    "y = np.random.binomial(1, true_probs)\n",
    "\n",
    "# Set up the states for maximum entropy\n",
    "v = np.array([-0.3, 0, 0.3])\n"
   ]
  },
  {
   "cell_type": "code",
   "execution_count": 64,
   "metadata": {},
   "outputs": [
    {
     "name": "stdout",
     "output_type": "stream",
     "text": [
      "True betas: [ 1.5 10. ]\n",
      "Estimated betas: [-0.2504104657675626, -1.8458237680554712]\n",
      "Mean predicted probability: 0.5162750811721235\n",
      "Mean noise 0.3333333330919437\n"
     ]
    }
   ],
   "source": [
    "\n",
    "# Solve the maximum entropy model\n",
    "p_opt, w_opt, estimated_betas, res = entropy_model(X, y, v)\n",
    "\n",
    "# Print results\n",
    "print(\"True betas:\", true_betas)\n",
    "print(\"Estimated betas:\", estimated_betas)\n",
    "print(\"Mean predicted probability:\", np.mean(p_opt))\n",
    "print(\"Mean noise\", np.mean(w_opt))"
   ]
  },
  {
   "cell_type": "code",
   "execution_count": 58,
   "metadata": {},
   "outputs": [
    {
     "name": "stdout",
     "output_type": "stream",
     "text": [
      "Results:\n",
      "True betas: [ 1.5 10. ]\n",
      "Logistic regression betas: [1.04811998 7.08590115]\n"
     ]
    }
   ],
   "source": [
    "from sklearn.linear_model import LogisticRegression\n",
    "logit = LogisticRegression(fit_intercept=False)\n",
    "logit.fit(X, y)\n",
    "# Get logistic regression coefficients\n",
    "logit_betas = logit.coef_[0]\n",
    "\n",
    "print(\"Results:\")\n",
    "print(\"True betas:\", true_betas)\n",
    "print(\"Logistic regression betas:\", logit_betas)"
   ]
  }
 ],
 "metadata": {
  "kernelspec": {
   "display_name": "base",
   "language": "python",
   "name": "python3"
  },
  "language_info": {
   "codemirror_mode": {
    "name": "ipython",
    "version": 3
   },
   "file_extension": ".py",
   "mimetype": "text/x-python",
   "name": "python",
   "nbconvert_exporter": "python",
   "pygments_lexer": "ipython3",
   "version": "3.12.7"
  }
 },
 "nbformat": 4,
 "nbformat_minor": 2
}

{
 "cells": [
  {
   "cell_type": "code",
   "execution_count": 14,
   "metadata": {},
   "outputs": [],
   "source": [
    "import pandas as pd"
   ]
  },
  {
   "cell_type": "code",
   "execution_count": 15,
   "metadata": {},
   "outputs": [],
   "source": [
    "# Function to calculate Roll's spread estimator for groups\n",
    "def rolls_estimator(group):\n",
    "    rates = group['Rate 1'].diff().dropna()\n",
    "    cov_rate = rates.cov(rates.shift())\n",
    "    return 2 * (abs(cov_rate) ** 0.5) if cov_rate < 0 else 0"
   ]
  },
  {
   "cell_type": "code",
   "execution_count": 16,
   "metadata": {},
   "outputs": [],
   "source": [
    "df = pd.read_excel('data/liquidity/CAD_20130223-20130310.xlsx')\n",
    "df.head()\n",
    "df  = df.sort_values(by=['Trade Time'])"
   ]
  },
  {
   "cell_type": "code",
   "execution_count": 17,
   "metadata": {},
   "outputs": [],
   "source": [
    "df['Trade Date'] = pd.to_datetime(df['Trade Time']).dt.date\n",
    "df['Tenor_Years'] = (pd.to_datetime(df['Maturity']) - pd.to_datetime(df['Effective'])).dt.days / 365.25\n",
    "df['Tenor_Years_Rounded'] = df['Tenor_Years'].round()"
   ]
  },
  {
   "cell_type": "code",
   "execution_count": 18,
   "metadata": {},
   "outputs": [],
   "source": [
    "# Apply filters\n",
    "filtered_df = df[\n",
    "    (df['Type'] == 'IRS Fix-Float') &\n",
    "    (df['CD'] == 'TR') &\n",
    "    ((df['Leg 1'] == 'FIXED') | (df['Leg 1'] == 'CAD-BA-CDOR')) &\n",
    "    (df['Leg 2'].isin(['FIXED', 'CAD-BA-CDOR', ''])) &\n",
    "    (df['PF 1'] != '1T') &\n",
    "    (df['PF 2'] != '1T') &\n",
    "    (df['Curr'] == 'CAD') &\n",
    "    (df['Othr Pmnt'].isnull()) &\n",
    "    (df['Rate 2'].isnull())\n",
    "]"
   ]
  },
  {
   "cell_type": "code",
   "execution_count": 19,
   "metadata": {},
   "outputs": [],
   "source": [
    "grouped = filtered_df.groupby(['Tenor_Years_Rounded', 'Trade Date'])"
   ]
  },
  {
   "cell_type": "code",
   "execution_count": 20,
   "metadata": {},
   "outputs": [
    {
     "name": "stderr",
     "output_type": "stream",
     "text": [
      "/Users/arnobalam/opt/anaconda3/lib/python3.9/site-packages/pandas/core/nanops.py:1609: RuntimeWarning: Degrees of freedom <= 0 for slice\n",
      "  return np.cov(a, b, ddof=ddof)[0, 1]\n",
      "/Users/arnobalam/opt/anaconda3/lib/python3.9/site-packages/numpy/lib/function_base.py:2704: RuntimeWarning: divide by zero encountered in divide\n",
      "  c *= np.true_divide(1, fact)\n"
     ]
    },
    {
     "data": {
      "text/html": [
       "<div>\n",
       "<style scoped>\n",
       "    .dataframe tbody tr th:only-of-type {\n",
       "        vertical-align: middle;\n",
       "    }\n",
       "\n",
       "    .dataframe tbody tr th {\n",
       "        vertical-align: top;\n",
       "    }\n",
       "\n",
       "    .dataframe thead th {\n",
       "        text-align: right;\n",
       "    }\n",
       "</style>\n",
       "<table border=\"1\" class=\"dataframe\">\n",
       "  <thead>\n",
       "    <tr style=\"text-align: right;\">\n",
       "      <th></th>\n",
       "      <th>Tenor_Years_Rounded</th>\n",
       "      <th>Trade Date</th>\n",
       "      <th>Roll_Measure</th>\n",
       "    </tr>\n",
       "  </thead>\n",
       "  <tbody>\n",
       "    <tr>\n",
       "      <th>0</th>\n",
       "      <td>1.0</td>\n",
       "      <td>2013-02-25</td>\n",
       "      <td>0.066755</td>\n",
       "    </tr>\n",
       "    <tr>\n",
       "      <th>1</th>\n",
       "      <td>1.0</td>\n",
       "      <td>2013-02-26</td>\n",
       "      <td>0.000000</td>\n",
       "    </tr>\n",
       "    <tr>\n",
       "      <th>2</th>\n",
       "      <td>1.0</td>\n",
       "      <td>2013-02-27</td>\n",
       "      <td>0.155931</td>\n",
       "    </tr>\n",
       "    <tr>\n",
       "      <th>3</th>\n",
       "      <td>1.0</td>\n",
       "      <td>2013-02-28</td>\n",
       "      <td>0.000000</td>\n",
       "    </tr>\n",
       "    <tr>\n",
       "      <th>4</th>\n",
       "      <td>1.0</td>\n",
       "      <td>2013-03-01</td>\n",
       "      <td>1.140430</td>\n",
       "    </tr>\n",
       "    <tr>\n",
       "      <th>...</th>\n",
       "      <td>...</td>\n",
       "      <td>...</td>\n",
       "      <td>...</td>\n",
       "    </tr>\n",
       "    <tr>\n",
       "      <th>90</th>\n",
       "      <td>30.0</td>\n",
       "      <td>2013-03-01</td>\n",
       "      <td>0.000000</td>\n",
       "    </tr>\n",
       "    <tr>\n",
       "      <th>91</th>\n",
       "      <td>30.0</td>\n",
       "      <td>2013-03-04</td>\n",
       "      <td>0.000000</td>\n",
       "    </tr>\n",
       "    <tr>\n",
       "      <th>92</th>\n",
       "      <td>30.0</td>\n",
       "      <td>2013-03-06</td>\n",
       "      <td>0.000000</td>\n",
       "    </tr>\n",
       "    <tr>\n",
       "      <th>93</th>\n",
       "      <td>30.0</td>\n",
       "      <td>2013-03-07</td>\n",
       "      <td>0.000000</td>\n",
       "    </tr>\n",
       "    <tr>\n",
       "      <th>94</th>\n",
       "      <td>30.0</td>\n",
       "      <td>2013-03-08</td>\n",
       "      <td>0.000000</td>\n",
       "    </tr>\n",
       "  </tbody>\n",
       "</table>\n",
       "<p>95 rows × 3 columns</p>\n",
       "</div>"
      ],
      "text/plain": [
       "    Tenor_Years_Rounded  Trade Date  Roll_Measure\n",
       "0                   1.0  2013-02-25      0.066755\n",
       "1                   1.0  2013-02-26      0.000000\n",
       "2                   1.0  2013-02-27      0.155931\n",
       "3                   1.0  2013-02-28      0.000000\n",
       "4                   1.0  2013-03-01      1.140430\n",
       "..                  ...         ...           ...\n",
       "90                 30.0  2013-03-01      0.000000\n",
       "91                 30.0  2013-03-04      0.000000\n",
       "92                 30.0  2013-03-06      0.000000\n",
       "93                 30.0  2013-03-07      0.000000\n",
       "94                 30.0  2013-03-08      0.000000\n",
       "\n",
       "[95 rows x 3 columns]"
      ]
     },
     "execution_count": 20,
     "metadata": {},
     "output_type": "execute_result"
    }
   ],
   "source": [
    "grouped.apply(rolls_estimator).reset_index(name='Roll_Measure')"
   ]
  },
  {
   "cell_type": "code",
   "execution_count": 21,
   "metadata": {},
   "outputs": [
    {
     "data": {
      "text/plain": [
       "Tenor_Years_Rounded  Trade Date\n",
       "1.0                  2013-02-25     4\n",
       "                     2013-02-26     1\n",
       "                     2013-02-27    62\n",
       "                     2013-02-28     9\n",
       "                     2013-03-01    10\n",
       "                                   ..\n",
       "30.0                 2013-03-01     1\n",
       "                     2013-03-04     2\n",
       "                     2013-03-06     4\n",
       "                     2013-03-07     2\n",
       "                     2013-03-08     1\n",
       "Length: 95, dtype: int64"
      ]
     },
     "execution_count": 21,
     "metadata": {},
     "output_type": "execute_result"
    }
   ],
   "source": [
    "grouped.size()"
   ]
  }
 ],
 "metadata": {
  "kernelspec": {
   "display_name": "base",
   "language": "python",
   "name": "python3"
  },
  "language_info": {
   "codemirror_mode": {
    "name": "ipython",
    "version": 3
   },
   "file_extension": ".py",
   "mimetype": "text/x-python",
   "name": "python",
   "nbconvert_exporter": "python",
   "pygments_lexer": "ipython3",
   "version": "3.9.16"
  }
 },
 "nbformat": 4,
 "nbformat_minor": 2
}

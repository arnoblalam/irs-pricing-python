{
 "cells": [
  {
   "cell_type": "code",
   "execution_count": 1,
   "metadata": {},
   "outputs": [
    {
     "name": "stdout",
     "output_type": "stream",
     "text": [
      "2012-09-21 00:00:00\n",
      "2012-10-25 00:00:00\n",
      "2012-11-26 00:00:00\n",
      "2012-12-31 00:00:00\n",
      "2013-03-19 00:00:00\n",
      "2013-04-19 00:00:00\n",
      "2013-05-17 00:00:00\n",
      "2013-06-03 00:00:00\n",
      "2013-07-23 00:00:00\n",
      "2013-08-22 00:00:00\n",
      "2013-09-23 00:00:00\n",
      "2013-10-08 00:00:00\n",
      "2013-11-15 00:00:00\n",
      "2013-12-16 00:00:00\n",
      "2014-01-02 00:00:00\n",
      "2014-02-10 00:00:00\n",
      "2014-03-25 00:00:00\n"
     ]
    }
   ],
   "source": [
    "import pandas as pd\n",
    "import QuantLib as ql\n",
    "import random\n",
    "\n",
    "random.seed(51786)\n",
    "\n",
    "def random_day_in_month(year, month):\n",
    "    start = ql.Date(1, month, year)\n",
    "    end = ql.Date.endOfMonth(start)\n",
    "    date = ql.Date(random.randint(start.dayOfMonth(), end.dayOfMonth()), month, year)\n",
    "    calendar = ql.JointCalendar(ql.UnitedStates(), ql.Canada())\n",
    "    if calendar.isHoliday(date):\n",
    "        date = calendar.adjust(date, ql.Following)  # move to the next business day\n",
    "    return date\n",
    "\n",
    "# 6 months prior to phase-in period\n",
    "dates_prior = [random_day_in_month(year, month) for year in [2012, 2013] for month in range(9, 13) if year == 2012 or month <= 2]\n",
    "\n",
    "# During phase-in period\n",
    "dates_phase_in = [random_day_in_month(2013, month) for month in range(3, 10)]\n",
    "\n",
    "# 6 months after phase-in period\n",
    "dates_after = [random_day_in_month(year, month) for year in [2013, 2014] for month in range(10, 13) if year == 2013] + [random_day_in_month(year, month) for year in [2014] for month in range(1, 4)]\n",
    "\n",
    "# Combine all lists\n",
    "all_dates = dates_prior + dates_phase_in + dates_after\n",
    "\n",
    "# Convert QuantLib dates to pandas datetime\n",
    "all_dates = [pd.Timestamp(date.to_date()) for date in all_dates]\n",
    "\n",
    "# Print dates\n",
    "for date in all_dates:\n",
    "    print(date)\n"
   ]
  }
 ],
 "metadata": {
  "kernelspec": {
   "display_name": "base",
   "language": "python",
   "name": "python3"
  },
  "language_info": {
   "codemirror_mode": {
    "name": "ipython",
    "version": 3
   },
   "file_extension": ".py",
   "mimetype": "text/x-python",
   "name": "python",
   "nbconvert_exporter": "python",
   "pygments_lexer": "ipython3",
   "version": "3.9.16"
  },
  "orig_nbformat": 4
 },
 "nbformat": 4,
 "nbformat_minor": 2
}

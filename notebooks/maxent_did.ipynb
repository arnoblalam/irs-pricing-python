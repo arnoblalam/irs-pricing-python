import numpy as np
import pandas as pd
from scipy.optimize import minimize
from scipy.special import logsumexp

# Generate some sample data
np.random.seed(42)
n = 1000
df = pd.DataFrame({
    'treatment': np.random.binomial(1, 0.5, n),
    'period': np.random.binomial(1, 0.5, n),
    'outcome': np.random.normal(0, 1, n)
})

# Add treatment effect
df.loc[(df['treatment'] == 1) & (df['period'] == 1), 'outcome'] += 0.5

# Function to compute moments
def compute_moments(data):
    moments = {
        'overall': data['outcome'].mean(),
        'T1': data[(data['treatment'] == 1) & (data['period'] == 1)]['outcome'].mean(),
        'T0': data[(data['treatment'] == 1) & (data['period'] == 0)]['outcome'].mean(),
        'C1': data[(data['treatment'] == 0) & (data['period'] == 1)]['outcome'].mean(),
        'C0': data[(data['treatment'] == 0) & (data['period'] == 0)]['outcome'].mean(),
        'T': data[data['treatment'] == 1]['outcome'].mean(),
        'C': data[data['treatment'] == 0]['outcome'].mean(),
        '1': data[data['period'] == 1]['outcome'].mean(),
        '0': data[data['period'] == 0]['outcome'].mean(),
    }
    moments['did'] = (moments['T1'] - moments['T0']) - (moments['C1'] - moments['C0'])
    return moments

# Compute sample moments
sample_moments = compute_moments(df)

# Define the negative log-likelihood function
def neg_log_likelihood(params, data, sample_moments):
    lambda_0, lambda_1, lambda_T, lambda_C, lambda_1, lambda_0, lambda_T1, lambda_T0, lambda_C1, lambda_C0 = params
    
    log_prob = (lambda_0 + 
                lambda_1 * data['outcome'] + 
                lambda_T * (data['treatment'] == 1) + 
                lambda_C * (data['treatment'] == 0) + 
                lambda_1 * (data['period'] == 1) + 
                lambda_0 * (data['period'] == 0) + 
                lambda_T1 * ((data['treatment'] == 1) & (data['period'] == 1)) + 
                lambda_T0 * ((data['treatment'] == 1) & (data['period'] == 0)) + 
                lambda_C1 * ((data['treatment'] == 0) & (data['period'] == 1)) + 
                lambda_C0 * ((data['treatment'] == 0) & (data['period'] == 0)))
    
    return -np.sum(log_prob - logsumexp(log_prob))

# Define the constraint functions
def constraint_overall(params, data, sample_moments):
    return np.mean(data['outcome'] * np.exp(neg_log_likelihood(params, data, sample_moments))) - sample_moments['overall']

def constraint_T1(params, data, sample_moments):
    mask = (data['treatment'] == 1) & (data['period'] == 1)
    return np.mean(data.loc[mask, 'outcome'] * np.exp(neg_log_likelihood(params, data.loc[mask], sample_moments))) - sample_moments['T1']

# ... Define similar constraints for T0, C1, C0, T, C, 1, 0

def constraint_did(params, data, sample_moments):
    return ((sample_moments['T1'] - sample_moments['T0']) - 
            (sample_moments['C1'] - sample_moments['C0']) - 
            sample_moments['did'])

# Set up the optimization problem
constraints = [
    {'type': 'eq', 'fun': constraint_overall},
    {'type': 'eq', 'fun': constraint_T1},
    # ... Add similar constraints for T0, C1, C0, T, C, 1, 0
    {'type': 'eq', 'fun': constraint_did}
]

# Initial guess for parameters
initial_params = np.zeros(10)

# Perform the optimization
result = minimize(neg_log_likelihood, initial_params, args=(df, sample_moments),
                  method='SLSQP', constraints=constraints)

# Extract the estimated parameters
estimated_params = result.x

# Print results
print("Estimated parameters:", estimated_params)
print("Sample DiD estimate:", sample_moments['did'])

# You can use the estimated_params to compute probabilities for new data points
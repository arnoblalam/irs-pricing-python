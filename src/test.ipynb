{
 "cells": [
  {
   "cell_type": "code",
   "execution_count": 14,
   "metadata": {},
   "outputs": [],
   "source": [
    "import QuantLib as ql\n",
    "import pandas as pd\n",
    "import os\n",
    "\n"
   ]
  },
  {
   "cell_type": "code",
   "execution_count": 15,
   "metadata": {},
   "outputs": [],
   "source": [
    "\n",
    "# Load the yield curve data\n",
    "# Replace 'path_to_your_file.xlsx' with the actual path to your Excel file\n",
    "file_path = 'data/raw/curves/EUR/EUR_Curve_20130225.xlsx'\n",
    "curve_data = pd.read_excel(file_path)\n",
    "\n",
    "# Trade, effective, and maturity dates\n",
    "trade_date = ql.Date(25, 2, 2013)\n",
    "effective_date = ql.Date(27, 2, 2013)\n",
    "maturity_date = ql.Date(27, 2, 2024)\n",
    "ql.Settings.instance().evaluationDate = trade_date\n",
    "\n",
    "# Convert yields to decimal form\n",
    "curve_data['Yield'] = curve_data['Yield'] / 100\n",
    "\n"
   ]
  },
  {
   "cell_type": "code",
   "execution_count": 16,
   "metadata": {},
   "outputs": [],
   "source": [
    "# Preparation for yield curve construction\n",
    "day_count = ql.Actual360()\n",
    "calendar = ql.TARGET()\n",
    "settlement_days = 2\n",
    "deposit_day_count = ql.Actual360()\n",
    "swap_day_count = ql.Thirty360(ql.Thirty360.European)\n",
    "euribor_index = ql.Euribor6M()\n",
    "\n",
    "rate_helpers = []\n",
    "\n",
    "# Iterate through the curve data to create appropriate rate helpers\n",
    "for _, row in curve_data.iterrows():\n",
    "    tenor, cusip, rate = row['Tenor'], row['CUSIP'], row['Yield']\n",
    "    \n",
    "    if \"EUR\" in cusip and \"M\" in tenor:  # Assuming these are deposit rates\n",
    "        months = int(tenor.replace('M', ''))\n",
    "        helper = ql.DepositRateHelper(ql.QuoteHandle(ql.SimpleQuote(rate)),\n",
    "                                      ql.Period(months, ql.Months), settlement_days,\n",
    "                                      calendar, ql.ModifiedFollowing, False, deposit_day_count)\n",
    "        rate_helpers.append(helper)\n",
    "    elif \"EUFR\" in cusip:  # FRA\n",
    "        months = int(tenor.replace('M', ''))\n",
    "        helper = ql.FraRateHelper(ql.QuoteHandle(ql.SimpleQuote(rate)),\n",
    "                                  months - settlement_days, months,\n",
    "                                  settlement_days, calendar, ql.ModifiedFollowing,\n",
    "                                  False, deposit_day_count)\n",
    "        rate_helpers.append(helper)\n",
    "    elif \"EUSA\" in cusip:  # Swap rates\n",
    "        years = int(tenor.replace('Y', ''))\n",
    "        helper = ql.SwapRateHelper(ql.QuoteHandle(ql.SimpleQuote(rate)),\n",
    "                                   ql.Period(years, ql.Years), calendar,\n",
    "                                   ql.Annual, ql.Unadjusted, swap_day_count, euribor_index)\n",
    "        rate_helpers.append(helper)\n",
    "\n",
    "# Construct the yield curve\n",
    "yield_curve = ql.PiecewiseFlatForward(0, calendar, rate_helpers, deposit_day_count)\n",
    "\n",
    "# Continue with swap setup and calculation...\n"
   ]
  },
  {
   "cell_type": "code",
   "execution_count": 17,
   "metadata": {},
   "outputs": [
    {
     "name": "stdout",
     "output_type": "stream",
     "text": [
      "Fair Fixed Rate: 1.8939%\n"
     ]
    }
   ],
   "source": [
    "# Swap details\n",
    "notional = 50000000  # 50M\n",
    "fixed_rate = 0.0  # Initial guess, will find the fair rate\n",
    "fixed_rate_day_count = ql.Thirty360(ql.Thirty360.European)\n",
    "fixed_rate_frequency = ql.Semiannual\n",
    "float_rate_frequency = ql.Annual\n",
    "\n",
    "# Define the fixed and floating leg schedules\n",
    "fixed_schedule = ql.Schedule(effective_date, maturity_date,\n",
    "                             ql.Period(fixed_rate_frequency),\n",
    "                             calendar, ql.ModifiedFollowing, ql.ModifiedFollowing,\n",
    "                             ql.DateGeneration.Forward, False)\n",
    "\n",
    "float_schedule = ql.Schedule(effective_date, maturity_date,\n",
    "                             ql.Period(float_rate_frequency),\n",
    "                             calendar, ql.ModifiedFollowing, ql.ModifiedFollowing,\n",
    "                             ql.DateGeneration.Forward, False)\n",
    "\n",
    "# EURIBOR index for the floating leg\n",
    "euribor_index = ql.Euribor1Y(ql.YieldTermStructureHandle(yield_curve))\n",
    "floating_leg_spread = 0.0\n",
    "\n",
    "# Instantiate the swap\n",
    "interest_rate_swap = ql.VanillaSwap(ql.VanillaSwap.Payer, notional, fixed_schedule,\n",
    "                                    fixed_rate, fixed_rate_day_count, float_schedule,\n",
    "                                    euribor_index, floating_leg_spread, day_count)\n",
    "\n",
    "# Set up the pricing engine\n",
    "swap_engine = ql.DiscountingSwapEngine(ql.YieldTermStructureHandle(yield_curve))\n",
    "interest_rate_swap.setPricingEngine(swap_engine)\n",
    "\n",
    "# Calculate the fair rate\n",
    "fair_rate = interest_rate_swap.fairRate()\n",
    "\n",
    "print(f\"Fair Fixed Rate: {fair_rate*100:.4f}%\")"
   ]
  }
 ],
 "metadata": {
  "kernelspec": {
   "display_name": "base",
   "language": "python",
   "name": "python3"
  },
  "language_info": {
   "codemirror_mode": {
    "name": "ipython",
    "version": 3
   },
   "file_extension": ".py",
   "mimetype": "text/x-python",
   "name": "python",
   "nbconvert_exporter": "python",
   "pygments_lexer": "ipython3",
   "version": "3.9.0"
  }
 },
 "nbformat": 4,
 "nbformat_minor": 2
}

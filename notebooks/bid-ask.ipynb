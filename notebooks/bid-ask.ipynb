{
 "cells": [
  {
   "cell_type": "code",
   "execution_count": 1,
   "metadata": {},
   "outputs": [],
   "source": [
    "import pandas as pd"
   ]
  },
  {
   "cell_type": "code",
   "execution_count": 2,
   "metadata": {},
   "outputs": [],
   "source": [
    "data = pd.read_excel(\"data/USD_CAD_combined.xlsx\")"
   ]
  },
  {
   "cell_type": "code",
   "execution_count": 13,
   "metadata": {},
   "outputs": [],
   "source": [
    "filtered_data = data[\n",
    "        (data['Leg 2'] == 'USD-LIBOR-BBA') &\n",
    "        (data['Rate 2'].isna()) &\n",
    "        (data['T'] == '5Y') &\n",
    "        ((data['Effective'] - data['Trade Date']).dt.days <= 7) &\n",
    "        pd.isna(data['Othr Pmnt'])\n",
    "    ]\n",
    "\n",
    "percentile_values = filtered_data.groupby(['Trade Date', 'Trade Hour Categorical'])['Rate 1'].quantile([0.05, 0.95]).unstack()\n",
    "percentile_values.columns = ['5% Rate 1', '95% Rate 1']\n",
    "print(percentile_values)"
   ]
  }
 ],
 "metadata": {
  "kernelspec": {
   "display_name": "base",
   "language": "python",
   "name": "python3"
  },
  "language_info": {
   "codemirror_mode": {
    "name": "ipython",
    "version": 3
   },
   "file_extension": ".py",
   "mimetype": "text/x-python",
   "name": "python",
   "nbconvert_exporter": "python",
   "pygments_lexer": "ipython3",
   "version": "3.9.16"
  }
 },
 "nbformat": 4,
 "nbformat_minor": 2
}

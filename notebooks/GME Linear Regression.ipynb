{
 "cells": [
  {
   "cell_type": "code",
   "execution_count": 1,
   "metadata": {},
   "outputs": [],
   "source": [
    "import numpy as np\n",
    "from scipy.stats import entropy\n",
    "from scipy.optimize import minimize"
   ]
  },
  {
   "cell_type": "code",
   "execution_count": 2,
   "metadata": {},
   "outputs": [],
   "source": [
    "def gme_linear_regression(X, y, z, v):\n",
    "    \"\"\"\n",
    "    X: covariates\n",
    "    y: outcomes\n",
    "    z: beta support\n",
    "    v: error support\n",
    "    \"\"\"\n",
    " \n",
    "    def objective(p):\n",
    "        return -entropy(p) # return the negative entropy, which will be minimized\n",
    " \n",
    "    def constraints(p, X, y, z, v, n, k, m):\n",
    "        \"\"\"constraints for the minimization process\n",
    "        p: probabilities whose entropy to maximize (a combination of p's associated with betas and w's associated with errors)\n",
    "        X: obsreved covariates\n",
    "        y: observed outcomes\n",
    "        z: support space for beta's\n",
    "        v: support space for errors\n",
    "        n:: number of observations\n",
    "        k: number of beta's\n",
    "        m: size of error support space\n",
    "        \"\"\"\n",
    "        P = p[:k*m].reshape((k, m))\n",
    "        W = p[k*m:].reshape((n, m))\n",
    "        beta_hat = (P * z).sum(axis=1)\n",
    "        error_hat = np.dot(W, v)\n",
    "        return np.dot(X, beta_hat) + error_hat - y\n",
    "       \n",
    "    def adding_up_constraints(p, n, k, m):\n",
    "        \"\"\"\n",
    "        p: probabilities whose entropy to maximize (a combination of p's associated with betas and w's associated with errors)\n",
    "        n: number of observations\n",
    "        k: number of parameters\n",
    "        m: size of the support space\n",
    "        \"\"\"\n",
    "        P = p[:k*m].reshape((k, m))\n",
    "        W = p[k*m:].reshape((n, m))\n",
    "        cons = []\n",
    "        for i in range(k):\n",
    "            cons.append({\n",
    "                'type': 'eq',\n",
    "                'fun': lambda p, i=i: np.sum(p[i*m:(i+1)*m]) - 1\n",
    "            })\n",
    "        for t in range(n):\n",
    "            cons.append({\n",
    "                'type': 'eq',\n",
    "                'fun': lambda p, t=t: np.sum(p[k*m + t*m:k*m + (t+1)*m]) - 1\n",
    "            })\n",
    "        return cons\n",
    "       \n",
    "    \n",
    "    n, k = X.shape\n",
    "    m = len(z[0]) # size of the support spaces (assumes same size for error and beta support)\n",
    "    p_init = np.ones(k * m + n * m)/m # initial guess: uniform\n",
    " \n",
    "    # Define constrains\n",
    "    cons = [{'type': 'eq', 'fun': lambda p: constraints(p, X, y, z, v, n, k, m)}]\n",
    "    cons += adding_up_constraints(p_init, n, k, m)\n",
    " \n",
    "    # Perform optimization\n",
    "    result = minimize(objective, p_init, constraints = cons, method = 'SLSQP')\n",
    " \n",
    "    if result.success:\n",
    "        p_opt = result.x\n",
    "        P_opt = p_opt[:k*m].reshape((k, m))\n",
    "        W_opt = p_opt[k*m:].reshape((n, m))\n",
    "        return P_opt, W_opt, result\n",
    "    else:\n",
    "        raise ValueError(\"Optimization Failed\")"
   ]
  },
  {
   "cell_type": "code",
   "execution_count": 3,
   "metadata": {},
   "outputs": [],
   "source": [
    "def simulate_data(n=30, intercept=1.0, slope=2.0, noise_std=0.5, seed=42):\n",
    "    \"\"\"\n",
    "    Generate synthetic data for a linear model y = intercept + slope*x + noise.\n",
    "    Returns:\n",
    "        X: shape (n, 2)  with first column = 1.0 (intercept), second column = x\n",
    "        y: shape (n,)\n",
    "    \"\"\"\n",
    "    np.random.seed(seed)\n",
    "    x = np.random.randn(n)\n",
    "    y = intercept + slope*x + noise_std*np.random.randn(n)\n",
    "    # Add intercept column of ones\n",
    "    X = np.column_stack([np.ones(n), x])\n",
    "    return X, y"
   ]
  },
  {
   "cell_type": "code",
   "execution_count": 4,
   "metadata": {},
   "outputs": [],
   "source": [
    "X, y = simulate_data()"
   ]
  },
  {
   "cell_type": "code",
   "execution_count": 9,
   "metadata": {},
   "outputs": [
    {
     "data": {
      "text/plain": [
       "array([0.94903764, 2.05112428])"
      ]
     },
     "execution_count": 9,
     "metadata": {},
     "output_type": "execute_result"
    }
   ],
   "source": [
    "np.linalg.lstsq(X, y, rcond = None)[0]"
   ]
  },
  {
   "cell_type": "code",
   "execution_count": 10,
   "metadata": {},
   "outputs": [],
   "source": [
    "z = np.array([[-10, 0, 10], [-10, 0, 10]])\n",
    "v = np.array([-3*np.std(y), 0, 3*np.std(y)])\n",
    "P_opt, W_opt, result = gme_linear_regression(X, y, z, v)"
   ]
  },
  {
   "cell_type": "code",
   "execution_count": 14,
   "metadata": {},
   "outputs": [
    {
     "data": {
      "text/plain": [
       "array([0.93343736, 2.02094526])"
      ]
     },
     "execution_count": 14,
     "metadata": {},
     "output_type": "execute_result"
    }
   ],
   "source": [
    "(P_opt * z).sum(axis =1)"
   ]
  },
  {
   "cell_type": "code",
   "execution_count": 16,
   "metadata": {},
   "outputs": [
    {
     "data": {
      "text/plain": [
       "array([1., 1., 1., 1., 1., 1., 1., 1., 1., 1., 1., 1., 1., 1., 1., 1., 1.,\n",
       "       1., 1., 1., 1., 1., 1., 1., 1., 1., 1., 1., 1., 1.])"
      ]
     },
     "execution_count": 16,
     "metadata": {},
     "output_type": "execute_result"
    }
   ],
   "source": [
    "W_opt.sum(axis = 1)"
   ]
  },
  {
   "cell_type": "code",
   "execution_count": 18,
   "metadata": {},
   "outputs": [
    {
     "data": {
      "text/plain": [
       "array([[ 4, 10, 18],\n",
       "       [ 7, 16, 27]])"
      ]
     },
     "execution_count": 18,
     "metadata": {},
     "output_type": "execute_result"
    }
   ],
   "source": []
  },
  {
   "cell_type": "code",
   "execution_count": null,
   "metadata": {},
   "outputs": [],
   "source": []
  }
 ],
 "metadata": {
  "kernelspec": {
   "display_name": "base",
   "language": "python",
   "name": "python3"
  },
  "language_info": {
   "codemirror_mode": {
    "name": "ipython",
    "version": 3
   },
   "file_extension": ".py",
   "mimetype": "text/x-python",
   "name": "python",
   "nbconvert_exporter": "python",
   "pygments_lexer": "ipython3",
   "version": "3.12.7"
  }
 },
 "nbformat": 4,
 "nbformat_minor": 2
}
